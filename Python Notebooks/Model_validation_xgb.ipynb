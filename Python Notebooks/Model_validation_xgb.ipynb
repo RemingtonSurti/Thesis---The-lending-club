{
 "cells": [
  {
   "cell_type": "code",
   "execution_count": 5,
   "metadata": {
    "id": "Uspavd3NSypS"
   },
   "outputs": [],
   "source": [
    "import numpy as np\n",
    "import pandas as pd\n",
    "import matplotlib.pyplot as plt\n",
    "import os\n",
    "from collections import OrderedDict\n",
    "import pickle\n",
    "from datetime import datetime\n",
    "from sklearn.metrics import classification_report, roc_curve, precision_recall_curve,roc_auc_score, f1_score, confusion_matrix\n",
    "from sklearn.model_selection import GridSearchCV\n",
    "from sklearn.neighbors import KNeighborsRegressor\n",
    "import xgboost as xgb"
   ]
  },
  {
   "cell_type": "code",
   "execution_count": 6,
   "metadata": {
    "id": "On_n2bnqTDaM"
   },
   "outputs": [],
   "source": [
    "TLC_df = pd.read_csv('data\\\\TLC_df_final.csv')"
   ]
  },
  {
   "cell_type": "code",
   "execution_count": 7,
   "metadata": {
    "colab": {
     "base_uri": "https://localhost:8080/",
     "height": 203
    },
    "id": "vZ6tKfBKWEVK",
    "outputId": "7a27148d-e525-4eda-8bc4-74ce96c6342b"
   },
   "outputs": [
    {
     "data": {
      "text/html": [
       "<div>\n",
       "<style scoped>\n",
       "    .dataframe tbody tr th:only-of-type {\n",
       "        vertical-align: middle;\n",
       "    }\n",
       "\n",
       "    .dataframe tbody tr th {\n",
       "        vertical-align: top;\n",
       "    }\n",
       "\n",
       "    .dataframe thead th {\n",
       "        text-align: right;\n",
       "    }\n",
       "</style>\n",
       "<table border=\"1\" class=\"dataframe\">\n",
       "  <thead>\n",
       "    <tr style=\"text-align: right;\">\n",
       "      <th></th>\n",
       "      <th>sub_grade</th>\n",
       "      <th>score</th>\n",
       "      <th>value</th>\n",
       "    </tr>\n",
       "  </thead>\n",
       "  <tbody>\n",
       "    <tr>\n",
       "      <th>0</th>\n",
       "      <td>A1</td>\n",
       "      <td>789</td>\n",
       "      <td>34</td>\n",
       "    </tr>\n",
       "    <tr>\n",
       "      <th>1</th>\n",
       "      <td>A2</td>\n",
       "      <td>780</td>\n",
       "      <td>33</td>\n",
       "    </tr>\n",
       "    <tr>\n",
       "      <th>2</th>\n",
       "      <td>A3</td>\n",
       "      <td>769</td>\n",
       "      <td>32</td>\n",
       "    </tr>\n",
       "    <tr>\n",
       "      <th>3</th>\n",
       "      <td>A4</td>\n",
       "      <td>761</td>\n",
       "      <td>31</td>\n",
       "    </tr>\n",
       "    <tr>\n",
       "      <th>4</th>\n",
       "      <td>A5</td>\n",
       "      <td>741</td>\n",
       "      <td>30</td>\n",
       "    </tr>\n",
       "  </tbody>\n",
       "</table>\n",
       "</div>"
      ],
      "text/plain": [
       "  sub_grade  score   value\n",
       "0        A1     789     34\n",
       "1        A2     780     33\n",
       "2        A3     769     32\n",
       "3        A4     761     31\n",
       "4        A5     741     30"
      ]
     },
     "execution_count": 7,
     "metadata": {},
     "output_type": "execute_result"
    }
   ],
   "source": [
    "df_fico_grade = pd.read_csv('data\\\\grade_to_fico.csv')\n",
    "df_fico_grade.head()"
   ]
  },
  {
   "cell_type": "code",
   "execution_count": 8,
   "metadata": {
    "colab": {
     "base_uri": "https://localhost:8080/",
     "height": 354
    },
    "id": "gqKu60NMWTaL",
    "outputId": "0303d7e7-9ddb-433c-b9ad-04de76c1578b"
   },
   "outputs": [
    {
     "data": {
      "image/png": "[encoded data removed]",
      "text/plain": [
       "<Figure size 720x360 with 1 Axes>"
      ]
     },
     "metadata": {
      "needs_background": "light"
     },
     "output_type": "display_data"
    }
   ],
   "source": [
    "plt.figure(figsize=(10,5))\n",
    "plt.plot(df_fico_grade['value'], df_fico_grade['score '], marker='x')\n",
    "plt.xticks(range(df_fico_grade.shape[0]) , df_fico_grade['sub_grade'][::-1], rotation='vertical')\n",
    "plt.xlabel('Sub Grade')\n",
    "plt.ylabel(\"FICO Score\")\n",
    "plt.title(\"FICO Versus Sub Grade Per SEC Filing\")\n",
    "plt.savefig(os.path.join('fico_grade_line.png'))\n",
    "plt.show()"
   ]
  },
  {
   "cell_type": "code",
   "execution_count": 9,
   "metadata": {
    "colab": {
     "base_uri": "https://localhost:8080/"
    },
    "id": "aDnRe4fNWeBM",
    "outputId": "995775a5-770c-4e5f-d5f2-ba8a97fa8a86"
   },
   "outputs": [
    {
     "data": {
      "text/plain": [
       "34.0"
      ]
     },
     "execution_count": 9,
     "metadata": {},
     "output_type": "execute_result"
    }
   ],
   "source": [
    "#instantiate regressor\n",
    "knn = KNeighborsRegressor(n_neighbors=1)\n",
    "#fit to data\n",
    "knn.fit(np.reshape(df_fico_grade['score '].values, (-1, 1)), \n",
    "        df_fico_grade['value'])\n",
    "#make sample prediction\n",
    "sub_grade_pred = knn.predict(np.reshape([800], (1,-1)))[0]\n",
    "sub_grade_pred"
   ]
  },
  {
   "cell_type": "code",
   "execution_count": 10,
   "metadata": {
    "id": "KFcWpbHEYA1M"
   },
   "outputs": [],
   "source": [
    "#save the model\n",
    "#with open(os.path.join('/content/drive/MyDrive/knn_regression.pkl'), 'wb') as handle:\n",
    " #   pickle.dump(knn,handle)"
   ]
  },
  {
   "cell_type": "code",
   "execution_count": 11,
   "metadata": {
    "colab": {
     "base_uri": "https://localhost:8080/",
     "height": 203
    },
    "id": "nGSSRDdjYaFj",
    "outputId": "54a9140a-9272-46d8-89d1-68e10507c97c"
   },
   "outputs": [
    {
     "data": {
      "text/html": [
       "<div>\n",
       "<style scoped>\n",
       "    .dataframe tbody tr th:only-of-type {\n",
       "        vertical-align: middle;\n",
       "    }\n",
       "\n",
       "    .dataframe tbody tr th {\n",
       "        vertical-align: top;\n",
       "    }\n",
       "\n",
       "    .dataframe thead th {\n",
       "        text-align: right;\n",
       "    }\n",
       "</style>\n",
       "<table border=\"1\" class=\"dataframe\">\n",
       "  <thead>\n",
       "    <tr style=\"text-align: right;\">\n",
       "      <th></th>\n",
       "      <th>grade_num</th>\n",
       "      <th>loan_grade</th>\n",
       "      <th>apr</th>\n",
       "      <th>36_mo</th>\n",
       "      <th>60_mo</th>\n",
       "    </tr>\n",
       "  </thead>\n",
       "  <tbody>\n",
       "    <tr>\n",
       "      <th>0</th>\n",
       "      <td>34</td>\n",
       "      <td>A1</td>\n",
       "      <td>6.03</td>\n",
       "      <td>6.78</td>\n",
       "      <td>7.30</td>\n",
       "    </tr>\n",
       "    <tr>\n",
       "      <th>1</th>\n",
       "      <td>33</td>\n",
       "      <td>A2</td>\n",
       "      <td>6.97</td>\n",
       "      <td>7.99</td>\n",
       "      <td>8.26</td>\n",
       "    </tr>\n",
       "    <tr>\n",
       "      <th>2</th>\n",
       "      <td>32</td>\n",
       "      <td>A3</td>\n",
       "      <td>7.62</td>\n",
       "      <td>8.99</td>\n",
       "      <td>8.91</td>\n",
       "    </tr>\n",
       "    <tr>\n",
       "      <th>3</th>\n",
       "      <td>31</td>\n",
       "      <td>A4</td>\n",
       "      <td>8.60</td>\n",
       "      <td>9.98</td>\n",
       "      <td>9.91</td>\n",
       "    </tr>\n",
       "    <tr>\n",
       "      <th>4</th>\n",
       "      <td>30</td>\n",
       "      <td>A5</td>\n",
       "      <td>9.25</td>\n",
       "      <td>10.99</td>\n",
       "      <td>10.56</td>\n",
       "    </tr>\n",
       "  </tbody>\n",
       "</table>\n",
       "</div>"
      ],
      "text/plain": [
       "   grade_num loan_grade   apr  36_mo  60_mo\n",
       "0         34         A1  6.03   6.78   7.30\n",
       "1         33         A2  6.97   7.99   8.26\n",
       "2         32         A3  7.62   8.99   8.91\n",
       "3         31         A4  8.60   9.98   9.91\n",
       "4         30         A5  9.25  10.99  10.56"
      ]
     },
     "execution_count": 11,
     "metadata": {},
     "output_type": "execute_result"
    }
   ],
   "source": [
    "df_fico_apr = pd.read_csv('data\\\\grade_to_apr.csv')\n",
    "df_fico_apr.head()"
   ]
  },
  {
   "cell_type": "code",
   "execution_count": 12,
   "metadata": {
    "colab": {
     "base_uri": "https://localhost:8080/"
    },
    "id": "zSgoZZM3YilC",
    "outputId": "e6dffedb-246d-4a7b-f765-a01d06aacc17"
   },
   "outputs": [
    {
     "data": {
      "text/plain": [
       "0    6.78\n",
       "Name: 36_mo, dtype: float64"
      ]
     },
     "execution_count": 12,
     "metadata": {},
     "output_type": "execute_result"
    }
   ],
   "source": [
    "df_fico_apr[df_fico_apr['grade_num']==sub_grade_pred]['36_mo']"
   ]
  },
  {
   "cell_type": "code",
   "execution_count": 13,
   "metadata": {
    "id": "etMLRol2Y1QR"
   },
   "outputs": [],
   "source": [
    "target = 'loan_status'\n",
    "\n",
    "\n",
    "X = TLC_df.drop(columns=[target,'zip_3','zip_2','Unnamed: 0'], axis=1)\n",
    "y = TLC_df[target]"
   ]
  },
  {
   "cell_type": "code",
   "execution_count": 14,
   "metadata": {
    "id": "W5uOv92OY-yK"
   },
   "outputs": [],
   "source": [
    "from sklearn.model_selection import train_test_split\n",
    "\n",
    "X_train,X_test,y_train,y_test = train_test_split(X,y,test_size=0.3, random_state=11)"
   ]
  },
  {
   "cell_type": "code",
   "execution_count": 15,
   "metadata": {
    "id": "u0ZI5BSKS1bw"
   },
   "outputs": [],
   "source": [
    "drop_columns=['pub_rec','pub_rec_bankruptcies','purpose','revol_bal','total_acc']"
   ]
  },
  {
   "cell_type": "code",
   "execution_count": 16,
   "metadata": {
    "id": "aJPQQDqoS60n"
   },
   "outputs": [],
   "source": [
    "X_train=X_train.drop(columns=drop_columns)\n",
    "X_test =X_test.drop(columns=drop_columns)"
   ]
  },
  {
   "cell_type": "code",
   "execution_count": 17,
   "metadata": {
    "colab": {
     "base_uri": "https://localhost:8080/",
     "height": 223
    },
    "id": "v8fv6J0xKJxm",
    "outputId": "1b6fc311-eefc-411b-d5a4-c78c3b7669d8"
   },
   "outputs": [
    {
     "data": {
      "text/html": [
       "<div>\n",
       "<style scoped>\n",
       "    .dataframe tbody tr th:only-of-type {\n",
       "        vertical-align: middle;\n",
       "    }\n",
       "\n",
       "    .dataframe tbody tr th {\n",
       "        vertical-align: top;\n",
       "    }\n",
       "\n",
       "    .dataframe thead th {\n",
       "        text-align: right;\n",
       "    }\n",
       "</style>\n",
       "<table border=\"1\" class=\"dataframe\">\n",
       "  <thead>\n",
       "    <tr style=\"text-align: right;\">\n",
       "      <th></th>\n",
       "      <th>loan_amnt</th>\n",
       "      <th>funded_amnt</th>\n",
       "      <th>term</th>\n",
       "      <th>int_rate</th>\n",
       "      <th>grade</th>\n",
       "      <th>sub_grade</th>\n",
       "      <th>emp_length</th>\n",
       "      <th>home_ownership</th>\n",
       "      <th>annual_inc</th>\n",
       "      <th>verification_status</th>\n",
       "      <th>dti</th>\n",
       "      <th>open_acc</th>\n",
       "      <th>revol_util</th>\n",
       "      <th>mort_acc</th>\n",
       "      <th>credit_hist</th>\n",
       "      <th>fico_avg_score</th>\n",
       "      <th>inst_amnt_ratio</th>\n",
       "    </tr>\n",
       "  </thead>\n",
       "  <tbody>\n",
       "    <tr>\n",
       "      <th>80245</th>\n",
       "      <td>12000.0</td>\n",
       "      <td>12000.0</td>\n",
       "      <td>1</td>\n",
       "      <td>7.26</td>\n",
       "      <td>7</td>\n",
       "      <td>31</td>\n",
       "      <td>2.0</td>\n",
       "      <td>3</td>\n",
       "      <td>65000.0</td>\n",
       "      <td>0</td>\n",
       "      <td>28.99</td>\n",
       "      <td>11.0</td>\n",
       "      <td>51.3</td>\n",
       "      <td>0.0</td>\n",
       "      <td>5052.0</td>\n",
       "      <td>712.0</td>\n",
       "      <td>0.030997</td>\n",
       "    </tr>\n",
       "    <tr>\n",
       "      <th>70177</th>\n",
       "      <td>8400.0</td>\n",
       "      <td>8400.0</td>\n",
       "      <td>1</td>\n",
       "      <td>17.57</td>\n",
       "      <td>4</td>\n",
       "      <td>16</td>\n",
       "      <td>6.0</td>\n",
       "      <td>3</td>\n",
       "      <td>20000.0</td>\n",
       "      <td>2</td>\n",
       "      <td>22.03</td>\n",
       "      <td>5.0</td>\n",
       "      <td>64.8</td>\n",
       "      <td>0.0</td>\n",
       "      <td>2648.0</td>\n",
       "      <td>687.0</td>\n",
       "      <td>0.035938</td>\n",
       "    </tr>\n",
       "    <tr>\n",
       "      <th>760935</th>\n",
       "      <td>7000.0</td>\n",
       "      <td>7000.0</td>\n",
       "      <td>1</td>\n",
       "      <td>15.61</td>\n",
       "      <td>4</td>\n",
       "      <td>19</td>\n",
       "      <td>9.0</td>\n",
       "      <td>4</td>\n",
       "      <td>36000.0</td>\n",
       "      <td>2</td>\n",
       "      <td>38.70</td>\n",
       "      <td>11.0</td>\n",
       "      <td>29.1</td>\n",
       "      <td>1.0</td>\n",
       "      <td>12815.0</td>\n",
       "      <td>692.0</td>\n",
       "      <td>0.034966</td>\n",
       "    </tr>\n",
       "    <tr>\n",
       "      <th>325461</th>\n",
       "      <td>15225.0</td>\n",
       "      <td>15225.0</td>\n",
       "      <td>2</td>\n",
       "      <td>19.52</td>\n",
       "      <td>3</td>\n",
       "      <td>12</td>\n",
       "      <td>10.0</td>\n",
       "      <td>3</td>\n",
       "      <td>110000.0</td>\n",
       "      <td>2</td>\n",
       "      <td>8.40</td>\n",
       "      <td>6.0</td>\n",
       "      <td>43.3</td>\n",
       "      <td>0.0</td>\n",
       "      <td>11354.0</td>\n",
       "      <td>677.0</td>\n",
       "      <td>0.026228</td>\n",
       "    </tr>\n",
       "    <tr>\n",
       "      <th>1267091</th>\n",
       "      <td>10000.0</td>\n",
       "      <td>10000.0</td>\n",
       "      <td>1</td>\n",
       "      <td>13.99</td>\n",
       "      <td>5</td>\n",
       "      <td>22</td>\n",
       "      <td>3.0</td>\n",
       "      <td>3</td>\n",
       "      <td>125000.0</td>\n",
       "      <td>1</td>\n",
       "      <td>10.41</td>\n",
       "      <td>10.0</td>\n",
       "      <td>78.1</td>\n",
       "      <td>0.0</td>\n",
       "      <td>4506.0</td>\n",
       "      <td>682.0</td>\n",
       "      <td>0.034173</td>\n",
       "    </tr>\n",
       "  </tbody>\n",
       "</table>\n",
       "</div>"
      ],
      "text/plain": [
       "         loan_amnt  funded_amnt  term  int_rate  grade  sub_grade  emp_length  \\\n",
       "80245      12000.0      12000.0     1      7.26      7         31         2.0   \n",
       "70177       8400.0       8400.0     1     17.57      4         16         6.0   \n",
       "760935      7000.0       7000.0     1     15.61      4         19         9.0   \n",
       "325461     15225.0      15225.0     2     19.52      3         12        10.0   \n",
       "1267091    10000.0      10000.0     1     13.99      5         22         3.0   \n",
       "\n",
       "         home_ownership  annual_inc  verification_status    dti  open_acc  \\\n",
       "80245                 3     65000.0                    0  28.99      11.0   \n",
       "70177                 3     20000.0                    2  22.03       5.0   \n",
       "760935                4     36000.0                    2  38.70      11.0   \n",
       "325461                3    110000.0                    2   8.40       6.0   \n",
       "1267091               3    125000.0                    1  10.41      10.0   \n",
       "\n",
       "         revol_util  mort_acc  credit_hist  fico_avg_score  inst_amnt_ratio  \n",
       "80245          51.3       0.0       5052.0           712.0         0.030997  \n",
       "70177          64.8       0.0       2648.0           687.0         0.035938  \n",
       "760935         29.1       1.0      12815.0           692.0         0.034966  \n",
       "325461         43.3       0.0      11354.0           677.0         0.026228  \n",
       "1267091        78.1       0.0       4506.0           682.0         0.034173  "
      ]
     },
     "execution_count": 17,
     "metadata": {},
     "output_type": "execute_result"
    }
   ],
   "source": [
    "X_train.head()"
   ]
  },
  {
   "cell_type": "code",
   "execution_count": 37,
   "metadata": {
    "colab": {
     "base_uri": "https://localhost:8080/"
    },
    "id": "F-Wq_5JQZ9ol",
    "outputId": "7b9f1140-2e3b-4f1e-ab65-62aff9ea07ab"
   },
   "outputs": [
    {
     "name": "stdout",
     "output_type": "stream",
     "text": [
      "Estimate: 3.551\n"
     ]
    },
    {
     "name": "stderr",
     "output_type": "stream",
     "text": [
      "C:\\Users\\lenovo\\anaconda3\\lib\\site-packages\\xgboost\\sklearn.py:1146: UserWarning: The use of label encoder in XGBClassifier is deprecated and will be removed in a future release. To remove this warning, do the following: 1) Pass option use_label_encoder=False when constructing XGBClassifier object; and 2) Encode your labels (y) as integers starting with 0, i.e. 0, 1, 2, ..., [num_class - 1].\n",
      "  warnings.warn(label_encoder_deprecation_msg, UserWarning)\n"
     ]
    },
    {
     "name": "stdout",
     "output_type": "stream",
     "text": [
      "[06:03:04] WARNING: C:/Users/Administrator/workspace/xgboost-win64_release_1.4.0/src/learner.cc:1095: Starting in XGBoost 1.3.0, the default evaluation metric used with the objective 'binary:logistic' was changed from 'error' to 'logloss'. Explicitly set eval_metric if you'd like to restore the old behavior.\n"
     ]
    },
    {
     "data": {
      "text/plain": [
       "array([[196040, 109159],\n",
       "       [ 27153,  58236]], dtype=int64)"
      ]
     },
     "execution_count": 37,
     "metadata": {},
     "output_type": "execute_result"
    }
   ],
   "source": [
    "from collections import Counter\n",
    "counter = Counter(y_train)\n",
    "# estimate scale_pos_weight value\n",
    "estimate = counter[0] / counter[1]\n",
    "print('Estimate: %.3f' % estimate)\n",
    "clf = xgb.XGBClassifier(n_estimators=300,\n",
    "                            subsample=0.9,\n",
    "                            n_jobs=-1,\n",
    "                            max_depth=6,\n",
    "                            eta=0.05,\n",
    "                           scale_pos_weight=estimate)\n",
    "\n",
    "clf.fit(X_train, y_train)\n",
    "\n",
    "#make predictions\n",
    "y_pred = clf.predict(X_test)\n",
    "confusion_matrix(y_test, y_pred)\n",
    "#'xgb__colsample_bytree': 0.9, 'xgb__eta': 0.05, 'xgb__max_depth': 6"
   ]
  },
  {
   "cell_type": "code",
   "execution_count": 38,
   "metadata": {
    "id": "BzkLfXFEigKF"
   },
   "outputs": [],
   "source": [
    "fpr, tpr, thresholds = roc_curve(y_test,clf.predict_proba(X_test)[:,1],pos_label=1)"
   ]
  },
  {
   "cell_type": "code",
   "execution_count": 39,
   "metadata": {
    "id": "jKrbzdYjixFn"
   },
   "outputs": [],
   "source": [
    "precision, recall, thresholds = precision_recall_curve(y_test,\n",
    "                                                       clf.predict_proba(X_test)[:,1],\n",
    "                                                       pos_label=1)"
   ]
  },
  {
   "cell_type": "code",
   "execution_count": 40,
   "metadata": {
    "colab": {
     "base_uri": "https://localhost:8080/",
     "height": 265
    },
    "id": "oHXral2pizgH",
    "outputId": "df56af8f-9f5c-46a8-b08e-03dec72ef035"
   },
   "outputs": [
    {
     "data": {
      "image/png": "[encoded data removed]",
      "text/plain": [
       "<Figure size 432x288 with 1 Axes>"
      ]
     },
     "metadata": {
      "needs_background": "light"
     },
     "output_type": "display_data"
    }
   ],
   "source": [
    "plt.plot(fpr, tpr, label='XGB')\n",
    "plt.plot([0,1], [0,1], label='No Discrimination', linestyle='-', dashes=(5, 5))\n",
    "plt.show()"
   ]
  },
  {
   "cell_type": "code",
   "execution_count": 41,
   "metadata": {
    "colab": {
     "base_uri": "https://localhost:8080/"
    },
    "id": "wKCQxBcoi8Ad",
    "outputId": "beb11cbb-775c-4b22-c5ca-ba544a47a4d6"
   },
   "outputs": [
    {
     "name": "stdout",
     "output_type": "stream",
     "text": [
      "xgb_auc: 0.7228401827404558\n"
     ]
    }
   ],
   "source": [
    "xgb_auc = roc_auc_score(y_test, clf.predict_proba(X_test)[:,1])\n",
    "print(\"xgb_auc: {}\".format(xgb_auc))"
   ]
  },
  {
   "cell_type": "code",
   "execution_count": 42,
   "metadata": {
    "colab": {
     "base_uri": "https://localhost:8080/"
    },
    "id": "AulRd90ji_yh",
    "outputId": "26b29988-ae5b-418a-9515-0ce0ad790ae4"
   },
   "outputs": [
    {
     "name": "stdout",
     "output_type": "stream",
     "text": [
      "f1_xgb (binary): 0.46075700993733787\n",
      "\n",
      "              precision    recall  f1-score   support\n",
      "\n",
      "           0       0.88      0.64      0.74    305199\n",
      "           1       0.35      0.68      0.46     85389\n",
      "\n",
      "    accuracy                           0.65    390588\n",
      "   macro avg       0.61      0.66      0.60    390588\n",
      "weighted avg       0.76      0.65      0.68    390588\n",
      "\n"
     ]
    }
   ],
   "source": [
    "f1_xgb = f1_score(y_test, y_pred)\n",
    "\n",
    "print(\"f1_xgb (binary): {}\\n\".format(f1_xgb))\n",
    "print(classification_report(y_test,y_pred))"
   ]
  },
  {
   "cell_type": "code",
   "execution_count": 43,
   "metadata": {
    "colab": {
     "base_uri": "https://localhost:8080/"
    },
    "id": "QvQc5hyBjLbR",
    "outputId": "9a1dc249-9ee7-493e-adc4-06fb3e684df5"
   },
   "outputs": [
    {
     "name": "stdout",
     "output_type": "stream",
     "text": [
      "Saving model at: xgb.pkl\n"
     ]
    }
   ],
   "source": [
    "#define location to save trained model\n",
    "save_model_dir = os.path.join('xgb.pkl')\n",
    "print(\"Saving model at: {}\".format(save_model_dir))\n",
    "\n",
    "#save the model\n",
    "with open(save_model_dir, 'wb') as handle:\n",
    "    pickle.dump(clf,\n",
    "                handle)\n"
   ]
  },
  {
   "cell_type": "code",
   "execution_count": 43,
   "metadata": {},
   "outputs": [],
   "source": [
    "# load the model\n",
    "with open('models\\\\xgb.pkl', 'rb') as f:\n",
    "    clf = pickle.load(f)"
   ]
  },
  {
   "cell_type": "code",
   "execution_count": 44,
   "metadata": {
    "colab": {
     "base_uri": "https://localhost:8080/",
     "height": 240
    },
    "id": "iPLuM8m3rF12",
    "outputId": "c5e51f18-680f-4439-c98a-eaa3430a2d5c"
   },
   "outputs": [
    {
     "data": {
      "text/html": [
       "<div>\n",
       "<style scoped>\n",
       "    .dataframe tbody tr th:only-of-type {\n",
       "        vertical-align: middle;\n",
       "    }\n",
       "\n",
       "    .dataframe tbody tr th {\n",
       "        vertical-align: top;\n",
       "    }\n",
       "\n",
       "    .dataframe thead th {\n",
       "        text-align: right;\n",
       "    }\n",
       "</style>\n",
       "<table border=\"1\" class=\"dataframe\">\n",
       "  <thead>\n",
       "    <tr style=\"text-align: right;\">\n",
       "      <th></th>\n",
       "      <th>Unnamed: 0</th>\n",
       "      <th>loan_amnt</th>\n",
       "      <th>funded_amnt</th>\n",
       "      <th>term</th>\n",
       "      <th>int_rate</th>\n",
       "      <th>grade</th>\n",
       "      <th>sub_grade</th>\n",
       "      <th>emp_length</th>\n",
       "      <th>home_ownership</th>\n",
       "      <th>annual_inc</th>\n",
       "      <th>...</th>\n",
       "      <th>revol_bal</th>\n",
       "      <th>revol_util</th>\n",
       "      <th>total_acc</th>\n",
       "      <th>mort_acc</th>\n",
       "      <th>pub_rec_bankruptcies</th>\n",
       "      <th>zip_3</th>\n",
       "      <th>zip_2</th>\n",
       "      <th>credit_hist</th>\n",
       "      <th>fico_avg_score</th>\n",
       "      <th>inst_amnt_ratio</th>\n",
       "    </tr>\n",
       "  </thead>\n",
       "  <tbody>\n",
       "    <tr>\n",
       "      <th>0</th>\n",
       "      <td>0</td>\n",
       "      <td>3600.0</td>\n",
       "      <td>3600.0</td>\n",
       "      <td>1</td>\n",
       "      <td>13.99</td>\n",
       "      <td>5</td>\n",
       "      <td>21</td>\n",
       "      <td>10.0</td>\n",
       "      <td>4</td>\n",
       "      <td>55000.0</td>\n",
       "      <td>...</td>\n",
       "      <td>2765.0</td>\n",
       "      <td>29.7</td>\n",
       "      <td>13.0</td>\n",
       "      <td>1.0</td>\n",
       "      <td>0.0</td>\n",
       "      <td>190</td>\n",
       "      <td>19</td>\n",
       "      <td>4505.0</td>\n",
       "      <td>677.0</td>\n",
       "      <td>0.034175</td>\n",
       "    </tr>\n",
       "    <tr>\n",
       "      <th>1</th>\n",
       "      <td>1</td>\n",
       "      <td>24700.0</td>\n",
       "      <td>24700.0</td>\n",
       "      <td>1</td>\n",
       "      <td>11.99</td>\n",
       "      <td>5</td>\n",
       "      <td>24</td>\n",
       "      <td>10.0</td>\n",
       "      <td>4</td>\n",
       "      <td>65000.0</td>\n",
       "      <td>...</td>\n",
       "      <td>21470.0</td>\n",
       "      <td>19.2</td>\n",
       "      <td>38.0</td>\n",
       "      <td>4.0</td>\n",
       "      <td>0.0</td>\n",
       "      <td>577</td>\n",
       "      <td>57</td>\n",
       "      <td>5844.0</td>\n",
       "      <td>717.0</td>\n",
       "      <td>0.033210</td>\n",
       "    </tr>\n",
       "    <tr>\n",
       "      <th>2</th>\n",
       "      <td>4</td>\n",
       "      <td>10400.0</td>\n",
       "      <td>10400.0</td>\n",
       "      <td>2</td>\n",
       "      <td>22.45</td>\n",
       "      <td>2</td>\n",
       "      <td>9</td>\n",
       "      <td>3.0</td>\n",
       "      <td>4</td>\n",
       "      <td>104433.0</td>\n",
       "      <td>...</td>\n",
       "      <td>21929.0</td>\n",
       "      <td>64.5</td>\n",
       "      <td>35.0</td>\n",
       "      <td>6.0</td>\n",
       "      <td>0.0</td>\n",
       "      <td>174</td>\n",
       "      <td>17</td>\n",
       "      <td>6392.0</td>\n",
       "      <td>697.0</td>\n",
       "      <td>0.027876</td>\n",
       "    </tr>\n",
       "    <tr>\n",
       "      <th>3</th>\n",
       "      <td>5</td>\n",
       "      <td>11950.0</td>\n",
       "      <td>11950.0</td>\n",
       "      <td>1</td>\n",
       "      <td>13.44</td>\n",
       "      <td>5</td>\n",
       "      <td>22</td>\n",
       "      <td>4.0</td>\n",
       "      <td>3</td>\n",
       "      <td>34000.0</td>\n",
       "      <td>...</td>\n",
       "      <td>8822.0</td>\n",
       "      <td>68.4</td>\n",
       "      <td>6.0</td>\n",
       "      <td>0.0</td>\n",
       "      <td>0.0</td>\n",
       "      <td>300</td>\n",
       "      <td>30</td>\n",
       "      <td>10288.0</td>\n",
       "      <td>692.0</td>\n",
       "      <td>0.033906</td>\n",
       "    </tr>\n",
       "    <tr>\n",
       "      <th>4</th>\n",
       "      <td>6</td>\n",
       "      <td>20000.0</td>\n",
       "      <td>20000.0</td>\n",
       "      <td>1</td>\n",
       "      <td>9.17</td>\n",
       "      <td>6</td>\n",
       "      <td>28</td>\n",
       "      <td>10.0</td>\n",
       "      <td>4</td>\n",
       "      <td>180000.0</td>\n",
       "      <td>...</td>\n",
       "      <td>87329.0</td>\n",
       "      <td>84.5</td>\n",
       "      <td>27.0</td>\n",
       "      <td>4.0</td>\n",
       "      <td>0.0</td>\n",
       "      <td>550</td>\n",
       "      <td>55</td>\n",
       "      <td>9314.0</td>\n",
       "      <td>682.0</td>\n",
       "      <td>0.031879</td>\n",
       "    </tr>\n",
       "  </tbody>\n",
       "</table>\n",
       "<p>5 rows × 26 columns</p>\n",
       "</div>"
      ],
      "text/plain": [
       "   Unnamed: 0  loan_amnt  funded_amnt  term  int_rate  grade  sub_grade  \\\n",
       "0           0     3600.0       3600.0     1     13.99      5         21   \n",
       "1           1    24700.0      24700.0     1     11.99      5         24   \n",
       "2           4    10400.0      10400.0     2     22.45      2          9   \n",
       "3           5    11950.0      11950.0     1     13.44      5         22   \n",
       "4           6    20000.0      20000.0     1      9.17      6         28   \n",
       "\n",
       "   emp_length  home_ownership  annual_inc  ...  revol_bal  revol_util  \\\n",
       "0        10.0               4     55000.0  ...     2765.0        29.7   \n",
       "1        10.0               4     65000.0  ...    21470.0        19.2   \n",
       "2         3.0               4    104433.0  ...    21929.0        64.5   \n",
       "3         4.0               3     34000.0  ...     8822.0        68.4   \n",
       "4        10.0               4    180000.0  ...    87329.0        84.5   \n",
       "\n",
       "   total_acc  mort_acc  pub_rec_bankruptcies  zip_3  zip_2  credit_hist  \\\n",
       "0       13.0       1.0                   0.0    190     19       4505.0   \n",
       "1       38.0       4.0                   0.0    577     57       5844.0   \n",
       "2       35.0       6.0                   0.0    174     17       6392.0   \n",
       "3        6.0       0.0                   0.0    300     30      10288.0   \n",
       "4       27.0       4.0                   0.0    550     55       9314.0   \n",
       "\n",
       "   fico_avg_score  inst_amnt_ratio  \n",
       "0           677.0         0.034175  \n",
       "1           717.0         0.033210  \n",
       "2           697.0         0.027876  \n",
       "3           692.0         0.033906  \n",
       "4           682.0         0.031879  \n",
       "\n",
       "[5 rows x 26 columns]"
      ]
     },
     "execution_count": 44,
     "metadata": {},
     "output_type": "execute_result"
    }
   ],
   "source": [
    "TLC_df.head()"
   ]
  },
  {
   "cell_type": "code",
   "execution_count": 18,
   "metadata": {
    "id": "kk4D6izaX0wA"
   },
   "outputs": [],
   "source": [
    "CATEGORIES = [\"LOAN ISSUED\",\"LOAN DENIED\"]"
   ]
  },
  {
   "cell_type": "code",
   "execution_count": 19,
   "metadata": {},
   "outputs": [
    {
     "data": {
      "text/plain": [
       "KNeighborsRegressor(n_neighbors=1)"
      ]
     },
     "execution_count": 19,
     "metadata": {},
     "output_type": "execute_result"
    }
   ],
   "source": [
    "#instantiate regressor\n",
    "knn_fa = KNeighborsRegressor(n_neighbors=1)\n",
    "#fit to data\n",
    "knn_fa.fit(np.reshape(X_train['loan_amnt'].values, (-1, 1)), \n",
    "        X_train['funded_amnt'])"
   ]
  },
  {
   "cell_type": "code",
   "execution_count": 46,
   "metadata": {
    "id": "k3Zw8a1IjuF2"
   },
   "outputs": [],
   "source": [
    "#get input for issue\n",
    "fico = 677\n",
    "loan_amnt = 3600\n",
    "term = '36 months'\n",
    "dti = 5.91\n",
    "home_ownership = 'MORTGAGE'\n",
    "mort_acc = 1\n",
    "annual_inc = 55000\n",
    "open_acc = 12\n",
    "employment_length = 10\n",
    "verification_status = 0\n",
    "revol_util = 29.7\n",
    "total_acc = 13\n",
    "credit_hist = 4505"
   ]
  },
  {
   "cell_type": "code",
   "execution_count": 32,
   "metadata": {
    "id": "7-BNDm9bYdff"
   },
   "outputs": [],
   "source": [
    "#get input for deny\n",
    "fico = 662\n",
    "loan_amnt = 24000\n",
    "term = '60 months'\n",
    "dti = 18.30\n",
    "home_ownership = 'rent'\n",
    "mort_acc = 2\n",
    "annual_inc = 110000\n",
    "open_acc = 10\n",
    "employment_length = 6\n",
    "verification_status = 0\n",
    "revol_util = 68.1\n",
    "mort_acc = 31\n",
    "credit_hist = 6302"
   ]
  },
  {
   "cell_type": "code",
   "execution_count": 33,
   "metadata": {
    "colab": {
     "base_uri": "https://localhost:8080/"
    },
    "id": "2P-8Q8XJtrJ-",
    "outputId": "a2b2241a-6f7f-4850-a922-6673291061d5"
   },
   "outputs": [
    {
     "data": {
      "text/plain": [
       "24000.0"
      ]
     },
     "execution_count": 33,
     "metadata": {},
     "output_type": "execute_result"
    }
   ],
   "source": [
    "funded_amnt = knn_fa.predict(np.reshape([loan_amnt], (1,-1)))[0]\n",
    "funded_amnt"
   ]
  },
  {
   "cell_type": "code",
   "execution_count": 34,
   "metadata": {
    "id": "blu8TcQAsImE"
   },
   "outputs": [],
   "source": [
    "#calculate grade from FICO\n",
    "sub_grade = knn.predict(np.reshape([fico], (1,-1)))[0]\n",
    "#calculate grade\n",
    "grade = round(sub_grade/5) + 1\n",
    "#get interest rate\n",
    "apr_row = df_fico_apr[df_fico_apr['grade_num']==sub_grade]"
   ]
  },
  {
   "cell_type": "code",
   "execution_count": 35,
   "metadata": {
    "id": "0bIRGuM-wLvy"
   },
   "outputs": [],
   "source": [
    "if term=='36 months':\n",
    "    int_rate = apr_row['36_mo'].values[0]\n",
    "    installment = float(loan_amnt)/36\n",
    "            \n",
    "else:\n",
    "    int_rate = apr_row['60_mo'].values[0]\n",
    "    installment = float(loan_amnt)/60"
   ]
  },
  {
   "cell_type": "code",
   "execution_count": 36,
   "metadata": {
    "id": "nVrJUxyGQ6OQ"
   },
   "outputs": [],
   "source": [
    "term_to_int = {'36 months': 1, '60 months': 2}\n",
    "home_to_int = {'MORTGAGE': 4, 'RENT': 3, 'OWN': 5,'ANY': 2,'OTHER': 1, 'NONE':0 }"
   ]
  },
  {
   "cell_type": "code",
   "execution_count": 37,
   "metadata": {
    "id": "hJ3TyAnkQ-x3"
   },
   "outputs": [],
   "source": [
    "temp = pd.DataFrame(index=[1])\n",
    "temp['loan_amnt']=loan_amnt\n",
    "temp['funded_amnt']=funded_amnt\n",
    "temp['term']=term_to_int[term]\n",
    "temp['int_rate']=int_rate\n",
    "temp['grade']=grade\n",
    "temp['sub_grade']=sub_grade\n",
    "temp['emp_length']=employment_length\n",
    "temp['home_ownership']=home_to_int[home_ownership.upper()]\n",
    "temp['annual_inc']=annual_inc\n",
    "temp['verification_status']=verification_status\n",
    "temp['dti']=dti\n",
    "temp['open_acc'] = open_acc\n",
    "temp['revol_util']=revol_util\n",
    "temp['mort_acc'] = mort_acc\n",
    "temp['credit_hist']=credit_hist\n",
    "temp['fico_avg_score'] = fico\n",
    "temp['inst_amnt_ratio']=installment/loan_amnt"
   ]
  },
  {
   "cell_type": "code",
   "execution_count": 38,
   "metadata": {},
   "outputs": [
    {
     "data": {
      "text/plain": [
       "Index(['loan_amnt', 'funded_amnt', 'term', 'int_rate', 'grade', 'sub_grade',\n",
       "       'emp_length', 'home_ownership', 'annual_inc', 'verification_status',\n",
       "       'dti', 'open_acc', 'revol_util', 'mort_acc', 'credit_hist',\n",
       "       'fico_avg_score', 'inst_amnt_ratio'],\n",
       "      dtype='object')"
      ]
     },
     "execution_count": 38,
     "metadata": {},
     "output_type": "execute_result"
    }
   ],
   "source": [
    "X_train.columns"
   ]
  },
  {
   "cell_type": "code",
   "execution_count": 39,
   "metadata": {},
   "outputs": [
    {
     "data": {
      "text/plain": [
       "Index(['loan_amnt', 'funded_amnt', 'term', 'int_rate', 'grade', 'sub_grade',\n",
       "       'emp_length', 'home_ownership', 'annual_inc', 'verification_status',\n",
       "       'dti', 'open_acc', 'revol_util', 'mort_acc', 'credit_hist',\n",
       "       'fico_avg_score', 'inst_amnt_ratio'],\n",
       "      dtype='object')"
      ]
     },
     "execution_count": 39,
     "metadata": {},
     "output_type": "execute_result"
    }
   ],
   "source": [
    "temp.columns"
   ]
  },
  {
   "cell_type": "code",
   "execution_count": 40,
   "metadata": {
    "colab": {
     "base_uri": "https://localhost:8080/",
     "height": 100
    },
    "id": "TCvEqr9dV5iW",
    "outputId": "05daa61d-a5d0-4017-bd2d-0113678ecc82"
   },
   "outputs": [
    {
     "data": {
      "text/html": [
       "<div>\n",
       "<style scoped>\n",
       "    .dataframe tbody tr th:only-of-type {\n",
       "        vertical-align: middle;\n",
       "    }\n",
       "\n",
       "    .dataframe tbody tr th {\n",
       "        vertical-align: top;\n",
       "    }\n",
       "\n",
       "    .dataframe thead th {\n",
       "        text-align: right;\n",
       "    }\n",
       "</style>\n",
       "<table border=\"1\" class=\"dataframe\">\n",
       "  <thead>\n",
       "    <tr style=\"text-align: right;\">\n",
       "      <th></th>\n",
       "      <th>loan_amnt</th>\n",
       "      <th>funded_amnt</th>\n",
       "      <th>term</th>\n",
       "      <th>int_rate</th>\n",
       "      <th>grade</th>\n",
       "      <th>sub_grade</th>\n",
       "      <th>emp_length</th>\n",
       "      <th>home_ownership</th>\n",
       "      <th>annual_inc</th>\n",
       "      <th>verification_status</th>\n",
       "      <th>dti</th>\n",
       "      <th>open_acc</th>\n",
       "      <th>revol_util</th>\n",
       "      <th>mort_acc</th>\n",
       "      <th>credit_hist</th>\n",
       "      <th>fico_avg_score</th>\n",
       "      <th>inst_amnt_ratio</th>\n",
       "    </tr>\n",
       "  </thead>\n",
       "  <tbody>\n",
       "    <tr>\n",
       "      <th>1</th>\n",
       "      <td>24000</td>\n",
       "      <td>24000.0</td>\n",
       "      <td>2</td>\n",
       "      <td>26.27</td>\n",
       "      <td>3</td>\n",
       "      <td>8.0</td>\n",
       "      <td>6</td>\n",
       "      <td>3</td>\n",
       "      <td>110000</td>\n",
       "      <td>0</td>\n",
       "      <td>18.3</td>\n",
       "      <td>10</td>\n",
       "      <td>68.1</td>\n",
       "      <td>31</td>\n",
       "      <td>6302</td>\n",
       "      <td>662</td>\n",
       "      <td>0.016667</td>\n",
       "    </tr>\n",
       "  </tbody>\n",
       "</table>\n",
       "</div>"
      ],
      "text/plain": [
       "   loan_amnt  funded_amnt  term  int_rate  grade  sub_grade  emp_length  \\\n",
       "1      24000      24000.0     2     26.27      3        8.0           6   \n",
       "\n",
       "   home_ownership  annual_inc  verification_status   dti  open_acc  \\\n",
       "1               3      110000                    0  18.3        10   \n",
       "\n",
       "   revol_util  mort_acc  credit_hist  fico_avg_score  inst_amnt_ratio  \n",
       "1        68.1        31         6302             662         0.016667  "
      ]
     },
     "execution_count": 40,
     "metadata": {},
     "output_type": "execute_result"
    }
   ],
   "source": [
    "temp"
   ]
  },
  {
   "cell_type": "code",
   "execution_count": 41,
   "metadata": {
    "colab": {
     "base_uri": "https://localhost:8080/"
    },
    "id": "3MdHaAFMXhrq",
    "outputId": "f4cead9d-2478-4a42-9ba7-f9a002a1b244"
   },
   "outputs": [
    {
     "name": "stdout",
     "output_type": "stream",
     "text": [
      "LOAN DENIED\n"
     ]
    }
   ],
   "source": [
    "Result = clf.predict(temp)\n",
    "print(CATEGORIES[int(Result)])"
   ]
  },
  {
   "cell_type": "code",
   "execution_count": null,
   "metadata": {},
   "outputs": [],
   "source": []
  }
 ],
 "metadata": {
  "colab": {
   "collapsed_sections": [],
   "name": "Model validation.ipynb",
   "provenance": []
  },
  "kernelspec": {
   "display_name": "Python 3",
   "language": "python",
   "name": "python3"
  },
  "language_info": {
   "codemirror_mode": {
    "name": "ipython",
    "version": 3
   },
   "file_extension": ".py",
   "mimetype": "text/x-python",
   "name": "python",
   "nbconvert_exporter": "python",
   "pygments_lexer": "ipython3",
   "version": "3.8.5"
  }
 },
 "nbformat": 4,
 "nbformat_minor": 1
}
