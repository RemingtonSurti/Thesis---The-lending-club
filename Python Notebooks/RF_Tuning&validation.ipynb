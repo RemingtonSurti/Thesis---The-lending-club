{
 "cells": [
  {
   "cell_type": "code",
   "execution_count": 13,
   "metadata": {
    "colab": {
     "base_uri": "https://localhost:8080/"
    },
    "id": "eG0WL9rzOEDb",
    "outputId": "82cc49ab-49ec-42e4-89ae-488c4639ec3c"
   },
   "outputs": [],
   "source": [
    "import numpy as np\n",
    "import pandas as pd\n",
    "import matplotlib.pyplot as plt\n",
    "import os\n",
    "from collections import OrderedDict\n",
    "import pickle\n",
    "from datetime import datetime\n",
    "from sklearn.metrics import classification_report, roc_curve, precision_recall_curve,roc_auc_score, f1_score, confusion_matrix\n",
    "from sklearn.model_selection import GridSearchCV, RandomizedSearchCV\n",
    "from sklearn.neighbors import KNeighborsRegressor\n",
    "from sklearn.ensemble import GradientBoostingClassifier, RandomForestClassifier, RandomForestRegressor\n",
    "from sklearn.model_selection import cross_val_score\n",
    "import xgboost as xgb"
   ]
  },
  {
   "cell_type": "code",
   "execution_count": 14,
   "metadata": {
    "id": "U27PkkQfOPvo"
   },
   "outputs": [
    {
     "name": "stderr",
     "output_type": "stream",
     "text": [
      "C:\\Users\\lenovo\\anaconda3\\lib\\site-packages\\sklearn\\base.py:310: UserWarning: Trying to unpickle estimator KNeighborsRegressor from version 0.22.2.post1 when using version 0.24.2. This might lead to breaking code or invalid results. Use at your own risk.\n",
      "  warnings.warn(\n"
     ]
    }
   ],
   "source": [
    "TLC_df = pd.read_csv('data\\\\TLC_df_final.csv')\n",
    "df_fico_grade = pd.read_csv('data\\\\grade_to_fico.csv')\n",
    "df_fico_apr = pd.read_csv('data\\\\grade_to_apr.csv')\n",
    "\n",
    "#TLC_df = pd.read_csv('/content/drive/MyDrive/TLC_df_final.csv')\n",
    "#df_fico_grade = pd.read_csv('/content/drive/MyDrive/grade_to_fico.csv')\n",
    "#df_fico_apr = pd.read_csv('/content/drive/MyDrive/grade_to_apr.csv')\n",
    "\n",
    "with open('models\\\\knn_regression_grade.pkl', 'rb') as f:\n",
    "    knn = pickle.load(f)\n",
    "\n",
    "with open('models\\\\knn_funded_amnt.pkl', 'rb') as f:\n",
    "    knn_fa = pickle.load(f)"
   ]
  },
  {
   "cell_type": "code",
   "execution_count": 15,
   "metadata": {
    "id": "HV35CGFjOTeg"
   },
   "outputs": [],
   "source": [
    "target = 'loan_status'\n",
    "\n",
    "\n",
    "X = TLC_df.drop(columns=[target,'zip_3','zip_2','Unnamed: 0'], axis=1)\n",
    "y = TLC_df[target]"
   ]
  },
  {
   "cell_type": "code",
   "execution_count": 16,
   "metadata": {
    "id": "mnAUitewObOw"
   },
   "outputs": [],
   "source": [
    "from sklearn.model_selection import train_test_split\n",
    "\n",
    "X_train,X_test,y_train,y_test = train_test_split(X,y,test_size=0.3, random_state=11)"
   ]
  },
  {
   "cell_type": "code",
   "execution_count": 17,
   "metadata": {
    "id": "yDFf3jDgOegm"
   },
   "outputs": [],
   "source": [
    "drop_columns=['pub_rec','pub_rec_bankruptcies','purpose','revol_bal','total_acc']"
   ]
  },
  {
   "cell_type": "code",
   "execution_count": 18,
   "metadata": {
    "id": "JnMAmuKUOfx2"
   },
   "outputs": [],
   "source": [
    "X_train=X_train.drop(columns=drop_columns)\n",
    "X_test =X_test.drop(columns=drop_columns)"
   ]
  },
  {
   "cell_type": "code",
   "execution_count": 19,
   "metadata": {
    "colab": {
     "base_uri": "https://localhost:8080/"
    },
    "id": "gW7oOtJ7O3Uu",
    "outputId": "d503ef6b-5318-47bf-f11a-fb612848fae8",
    "scrolled": true
   },
   "outputs": [
    {
     "data": {
      "text/plain": [
       "RandomForestClassifier(class_weight='balanced', n_jobs=-1, random_state=11)"
      ]
     },
     "execution_count": 19,
     "metadata": {},
     "output_type": "execute_result"
    }
   ],
   "source": [
    "rf_clf = RandomForestClassifier(n_estimators=100, class_weight='balanced', n_jobs=-1, random_state=11)\n",
    "\n",
    "rf_clf.fit(X_train, y_train)"
   ]
  },
  {
   "cell_type": "code",
   "execution_count": 20,
   "metadata": {},
   "outputs": [
    {
     "data": {
      "text/plain": [
       "array([[298458,   6741],\n",
       "       [ 77546,   7843]], dtype=int64)"
      ]
     },
     "execution_count": 20,
     "metadata": {},
     "output_type": "execute_result"
    }
   ],
   "source": [
    "y_pred = rf_clf.predict(X_test)\n",
    "confusion_matrix(y_test, y_pred)"
   ]
  },
  {
   "cell_type": "code",
   "execution_count": 21,
   "metadata": {
    "colab": {
     "base_uri": "https://localhost:8080/"
    },
    "id": "jGwuYGbcihqB",
    "outputId": "beb5829b-6098-44b6-b741-2aba7b560120"
   },
   "outputs": [
    {
     "name": "stdout",
     "output_type": "stream",
     "text": [
      "0.7842048398824336\n"
     ]
    }
   ],
   "source": [
    "result = rf_clf.score(X_test, y_test)\n",
    "print(result)"
   ]
  },
  {
   "cell_type": "code",
   "execution_count": 22,
   "metadata": {},
   "outputs": [
    {
     "name": "stdout",
     "output_type": "stream",
     "text": [
      "rf_auc: 0.7048877796537023\n"
     ]
    }
   ],
   "source": [
    "rf_auc = roc_auc_score(y_test, rf_clf.predict_proba(X_test)[:,1])\n",
    "print(\"rf_auc: {}\".format(rf_auc))"
   ]
  },
  {
   "cell_type": "code",
   "execution_count": 3,
   "metadata": {
    "id": "ySN8HLJohPnb"
   },
   "outputs": [
    {
     "ename": "NameError",
     "evalue": "name 'rf_clf' is not defined",
     "output_type": "error",
     "traceback": [
      "\u001b[1;31m---------------------------------------------------------------------------\u001b[0m",
      "\u001b[1;31mNameError\u001b[0m                                 Traceback (most recent call last)",
      "\u001b[1;32m<ipython-input-3-b1007a62b071>\u001b[0m in \u001b[0;36m<module>\u001b[1;34m\u001b[0m\n\u001b[0;32m      1\u001b[0m \u001b[1;31m# save the model to disk\u001b[0m\u001b[1;33m\u001b[0m\u001b[1;33m\u001b[0m\u001b[1;33m\u001b[0m\u001b[0m\n\u001b[0;32m      2\u001b[0m \u001b[1;32mwith\u001b[0m \u001b[0mopen\u001b[0m\u001b[1;33m(\u001b[0m\u001b[1;34m'models\\\\rf_model_final.sav'\u001b[0m\u001b[1;33m,\u001b[0m \u001b[1;34m'wb'\u001b[0m\u001b[1;33m)\u001b[0m \u001b[1;32mas\u001b[0m \u001b[0mhandle\u001b[0m\u001b[1;33m:\u001b[0m\u001b[1;33m\u001b[0m\u001b[1;33m\u001b[0m\u001b[0m\n\u001b[1;32m----> 3\u001b[1;33m     pickle.dump(rf_clf,\n\u001b[0m\u001b[0;32m      4\u001b[0m                 \u001b[0mhandle\u001b[0m\u001b[1;33m,\u001b[0m\u001b[1;33m\u001b[0m\u001b[1;33m\u001b[0m\u001b[0m\n\u001b[0;32m      5\u001b[0m                 protocol=pickle.HIGHEST_PROTOCOL)\n",
      "\u001b[1;31mNameError\u001b[0m: name 'rf_clf' is not defined"
     ]
    }
   ],
   "source": [
    "# save the model to disk\n",
    "with open('models\\\\rf_model_final.sav', 'wb') as handle:\n",
    "    pickle.dump(rf_clf,\n",
    "                handle,\n",
    "                protocol=pickle.HIGHEST_PROTOCOL)"
   ]
  },
  {
   "cell_type": "code",
   "execution_count": 26,
   "metadata": {
    "id": "btI3IOOjifSy"
   },
   "outputs": [],
   "source": [
    "# load the model from disk\n",
    "with open('rf_model_final.sav', 'rb') as f:\n",
    "    rf = pickle.load(f)"
   ]
  },
  {
   "cell_type": "code",
   "execution_count": 27,
   "metadata": {
    "colab": {
     "base_uri": "https://localhost:8080/"
    },
    "id": "Vtfl0jm2kgYE",
    "outputId": "90ca5e61-245a-4e32-b7bc-e846f5e29da6"
   },
   "outputs": [
    {
     "name": "stdout",
     "output_type": "stream",
     "text": [
      "0.6259127264534496\n"
     ]
    }
   ],
   "source": [
    "result = rf.score(X_test, y_test)\n",
    "print(result)"
   ]
  },
  {
   "cell_type": "code",
   "execution_count": 28,
   "metadata": {
    "id": "H9tNusKdSN9-"
   },
   "outputs": [],
   "source": [
    "fpr, tpr, thresholds = roc_curve(y_test,rf.predict_proba(X_test)[:,1],pos_label=1)"
   ]
  },
  {
   "cell_type": "code",
   "execution_count": 29,
   "metadata": {
    "id": "jvq7msq7SVE-"
   },
   "outputs": [],
   "source": [
    "precision, recall, thresholds = precision_recall_curve(y_test,\n",
    "                                                       rf.predict_proba(X_test)[:,1],\n",
    "                                                       pos_label=1)"
   ]
  },
  {
   "cell_type": "code",
   "execution_count": 30,
   "metadata": {
    "colab": {
     "base_uri": "https://localhost:8080/",
     "height": 265
    },
    "id": "QhHvQgchSbl9",
    "outputId": "5fd9be70-a849-41da-c494-e1ef06e5dee8"
   },
   "outputs": [
    {
     "data": {
      "image/png": "[encoded data removed]",
      "text/plain": [
       "<Figure size 432x288 with 1 Axes>"
      ]
     },
     "metadata": {
      "needs_background": "light"
     },
     "output_type": "display_data"
    }
   ],
   "source": [
    "plt.plot(fpr, tpr, label='RF')\n",
    "plt.plot([0,1], [0,1], label='No Discrimination', linestyle='-', dashes=(5, 5))\n",
    "plt.show()"
   ]
  },
  {
   "cell_type": "code",
   "execution_count": 31,
   "metadata": {
    "colab": {
     "base_uri": "https://localhost:8080/"
    },
    "id": "HK0BqvOJSl9-",
    "outputId": "9e15707a-e699-4798-91fc-60250480e4db"
   },
   "outputs": [
    {
     "name": "stdout",
     "output_type": "stream",
     "text": [
      "rf_auc: 0.7058385353704272\n"
     ]
    }
   ],
   "source": [
    "rf_auc = roc_auc_score(y_test, rf.predict_proba(X_test)[:,1])\n",
    "print(\"rf_auc: {}\".format(rf_auc))"
   ]
  },
  {
   "cell_type": "code",
   "execution_count": 32,
   "metadata": {
    "colab": {
     "base_uri": "https://localhost:8080/"
    },
    "id": "6GJuIOZwS06f",
    "outputId": "19fc9006-0434-454f-a5c6-117c502413be"
   },
   "outputs": [
    {
     "name": "stdout",
     "output_type": "stream",
     "text": [
      "f1_xgb (binary): 0.1569023636381823\n",
      "\n",
      "              precision    recall  f1-score   support\n",
      "\n",
      "           0       0.79      0.98      0.88    305199\n",
      "           1       0.54      0.09      0.16     85389\n",
      "\n",
      "    accuracy                           0.78    390588\n",
      "   macro avg       0.67      0.53      0.52    390588\n",
      "weighted avg       0.74      0.78      0.72    390588\n",
      "\n"
     ]
    }
   ],
   "source": [
    "f1_rf = f1_score(y_test, y_pred)\n",
    "\n",
    "print(\"f1_xgb (binary): {}\\n\".format(f1_rf))\n",
    "print(classification_report(y_test,y_pred))"
   ]
  },
  {
   "cell_type": "code",
   "execution_count": 33,
   "metadata": {
    "id": "L_EABwiwoFBY"
   },
   "outputs": [],
   "source": [
    "y_pred = rf.predict(X_test)"
   ]
  },
  {
   "cell_type": "code",
   "execution_count": 34,
   "metadata": {
    "colab": {
     "base_uri": "https://localhost:8080/"
    },
    "id": "mo3zWAEfQWho",
    "outputId": "86b41822-1ac8-4cd8-de19-acac14852cdc"
   },
   "outputs": [
    {
     "name": "stdout",
     "output_type": "stream",
     "text": [
      "AUC: 0.649\n"
     ]
    }
   ],
   "source": [
    "# calculate AUC\n",
    "auc = roc_auc_score(y_test, y_pred)\n",
    "print('AUC: %.3f' % auc)"
   ]
  },
  {
   "cell_type": "code",
   "execution_count": 36,
   "metadata": {
    "id": "sAcM1aRpTlfd"
   },
   "outputs": [],
   "source": [
    "CATEGORIES = [\"LOAN ISSUED\",\"LOAN DENIED\"]"
   ]
  },
  {
   "cell_type": "code",
   "execution_count": 58,
   "metadata": {},
   "outputs": [],
   "source": [
    "#get input for accept\n",
    "fico = 677\n",
    "loan_amnt = 3600\n",
    "term = '36 months'\n",
    "dti = 5.91\n",
    "home_ownership = 'MORTGAGE'\n",
    "mort_acc = 1\n",
    "annual_inc = 55000\n",
    "open_acc = 12\n",
    "employment_length = 10\n",
    "verification_status = 0\n",
    "revol_util = 29.7\n",
    "total_acc = 13\n",
    "credit_hist = 5505"
   ]
  },
  {
   "cell_type": "code",
   "execution_count": 48,
   "metadata": {},
   "outputs": [],
   "source": [
    "#get input for deny\n",
    "fico = 662\n",
    "loan_amnt = 24000\n",
    "term = '60 months'\n",
    "dti = 18.30\n",
    "home_ownership = 'rent'\n",
    "mort_acc = 2\n",
    "annual_inc = 110000\n",
    "open_acc = 10\n",
    "employment_length = 6\n",
    "verification_status = 0\n",
    "revol_util = 68.1\n",
    "total_acc = 31\n",
    "credit_hist = 6302"
   ]
  },
  {
   "cell_type": "code",
   "execution_count": 59,
   "metadata": {},
   "outputs": [
    {
     "data": {
      "text/plain": [
       "3600.0"
      ]
     },
     "execution_count": 59,
     "metadata": {},
     "output_type": "execute_result"
    }
   ],
   "source": [
    "funded_amnt = knn_fa.predict(np.reshape([loan_amnt], (1,-1)))[0]\n",
    "funded_amnt"
   ]
  },
  {
   "cell_type": "code",
   "execution_count": 60,
   "metadata": {},
   "outputs": [],
   "source": [
    "#calculate grade from FICO\n",
    "sub_grade = knn.predict(np.reshape([fico], (1,-1)))[0]\n",
    "#calculate grade\n",
    "grade = round(sub_grade/5) + 1\n",
    "#get interest rate\n",
    "apr_row = df_fico_apr[df_fico_apr['grade_num']==sub_grade]"
   ]
  },
  {
   "cell_type": "code",
   "execution_count": 61,
   "metadata": {},
   "outputs": [],
   "source": [
    "if term=='36 months':\n",
    "    int_rate = apr_row['36_mo'].values[0]\n",
    "    installment = float(loan_amnt)/36\n",
    "            \n",
    "else:\n",
    "    int_rate = apr_row['60_mo'].values[0]\n",
    "    installment = float(loan_amnt)/60"
   ]
  },
  {
   "cell_type": "code",
   "execution_count": 62,
   "metadata": {},
   "outputs": [],
   "source": [
    "term_to_int = {'36 months': 1, '60 months': 2}\n",
    "home_to_int = {'MORTGAGE': 4, 'RENT': 3, 'OWN': 5,'ANY': 2,'OTHER': 1, 'NONE':0 }"
   ]
  },
  {
   "cell_type": "code",
   "execution_count": 63,
   "metadata": {},
   "outputs": [],
   "source": [
    "temp = pd.DataFrame(index=[1])\n",
    "temp['loan_amnt']=loan_amnt\n",
    "temp['funded_amnt']=funded_amnt\n",
    "temp['term']=term_to_int[term]\n",
    "temp['int_rate']=int_rate\n",
    "temp['grade']=grade\n",
    "temp['sub_grade']=sub_grade\n",
    "temp['emp_length']=employment_length\n",
    "temp['home_ownership']=home_to_int[home_ownership.upper()]\n",
    "temp['annual_inc']=annual_inc\n",
    "temp['verification_status']=verification_status\n",
    "temp['dti']=dti\n",
    "temp['open_acc'] = open_acc\n",
    "temp['revol_util']=revol_util\n",
    "temp['mort_acc'] = mort_acc\n",
    "temp['credit_hist']=credit_hist\n",
    "temp['fico_avg_score'] = fico\n",
    "temp['inst_amnt_ratio']=installment/loan_amnt"
   ]
  },
  {
   "cell_type": "code",
   "execution_count": 64,
   "metadata": {},
   "outputs": [
    {
     "data": {
      "text/plain": [
       "Index(['loan_amnt', 'funded_amnt', 'term', 'int_rate', 'grade', 'sub_grade',\n",
       "       'emp_length', 'home_ownership', 'annual_inc', 'verification_status',\n",
       "       'dti', 'open_acc', 'revol_util', 'mort_acc', 'credit_hist',\n",
       "       'fico_avg_score', 'inst_amnt_ratio'],\n",
       "      dtype='object')"
      ]
     },
     "execution_count": 64,
     "metadata": {},
     "output_type": "execute_result"
    }
   ],
   "source": [
    "X_train.columns"
   ]
  },
  {
   "cell_type": "code",
   "execution_count": 65,
   "metadata": {},
   "outputs": [
    {
     "data": {
      "text/plain": [
       "Index(['loan_amnt', 'funded_amnt', 'term', 'int_rate', 'grade', 'sub_grade',\n",
       "       'emp_length', 'home_ownership', 'annual_inc', 'verification_status',\n",
       "       'dti', 'open_acc', 'revol_util', 'mort_acc', 'credit_hist',\n",
       "       'fico_avg_score', 'inst_amnt_ratio'],\n",
       "      dtype='object')"
      ]
     },
     "execution_count": 65,
     "metadata": {},
     "output_type": "execute_result"
    }
   ],
   "source": [
    "temp.columns"
   ]
  },
  {
   "cell_type": "code",
   "execution_count": 66,
   "metadata": {},
   "outputs": [
    {
     "data": {
      "text/html": [
       "<div>\n",
       "<style scoped>\n",
       "    .dataframe tbody tr th:only-of-type {\n",
       "        vertical-align: middle;\n",
       "    }\n",
       "\n",
       "    .dataframe tbody tr th {\n",
       "        vertical-align: top;\n",
       "    }\n",
       "\n",
       "    .dataframe thead th {\n",
       "        text-align: right;\n",
       "    }\n",
       "</style>\n",
       "<table border=\"1\" class=\"dataframe\">\n",
       "  <thead>\n",
       "    <tr style=\"text-align: right;\">\n",
       "      <th></th>\n",
       "      <th>loan_amnt</th>\n",
       "      <th>funded_amnt</th>\n",
       "      <th>term</th>\n",
       "      <th>int_rate</th>\n",
       "      <th>grade</th>\n",
       "      <th>sub_grade</th>\n",
       "      <th>emp_length</th>\n",
       "      <th>home_ownership</th>\n",
       "      <th>annual_inc</th>\n",
       "      <th>verification_status</th>\n",
       "      <th>dti</th>\n",
       "      <th>open_acc</th>\n",
       "      <th>revol_util</th>\n",
       "      <th>mort_acc</th>\n",
       "      <th>credit_hist</th>\n",
       "      <th>fico_avg_score</th>\n",
       "      <th>inst_amnt_ratio</th>\n",
       "    </tr>\n",
       "  </thead>\n",
       "  <tbody>\n",
       "    <tr>\n",
       "      <th>1</th>\n",
       "      <td>3600</td>\n",
       "      <td>3600.0</td>\n",
       "      <td>1</td>\n",
       "      <td>21.49</td>\n",
       "      <td>5</td>\n",
       "      <td>19.0</td>\n",
       "      <td>10</td>\n",
       "      <td>4</td>\n",
       "      <td>55000</td>\n",
       "      <td>0</td>\n",
       "      <td>5.91</td>\n",
       "      <td>12</td>\n",
       "      <td>29.7</td>\n",
       "      <td>1</td>\n",
       "      <td>5505</td>\n",
       "      <td>677</td>\n",
       "      <td>0.027778</td>\n",
       "    </tr>\n",
       "  </tbody>\n",
       "</table>\n",
       "</div>"
      ],
      "text/plain": [
       "   loan_amnt  funded_amnt  term  int_rate  grade  sub_grade  emp_length  \\\n",
       "1       3600       3600.0     1     21.49      5       19.0          10   \n",
       "\n",
       "   home_ownership  annual_inc  verification_status   dti  open_acc  \\\n",
       "1               4       55000                    0  5.91        12   \n",
       "\n",
       "   revol_util  mort_acc  credit_hist  fico_avg_score  inst_amnt_ratio  \n",
       "1        29.7         1         5505             677         0.027778  "
      ]
     },
     "execution_count": 66,
     "metadata": {},
     "output_type": "execute_result"
    }
   ],
   "source": [
    "temp"
   ]
  },
  {
   "cell_type": "code",
   "execution_count": 67,
   "metadata": {},
   "outputs": [
    {
     "name": "stdout",
     "output_type": "stream",
     "text": [
      "LOAN DENIED\n"
     ]
    }
   ],
   "source": [
    "Result = rf.predict(temp)\n",
    "print(CATEGORIES[int(Result)])"
   ]
  }
 ],
 "metadata": {
  "accelerator": "GPU",
  "colab": {
   "collapsed_sections": [],
   "name": "RF_test.ipynb",
   "provenance": []
  },
  "kernelspec": {
   "display_name": "Python 3",
   "language": "python",
   "name": "python3"
  },
  "language_info": {
   "codemirror_mode": {
    "name": "ipython",
    "version": 3
   },
   "file_extension": ".py",
   "mimetype": "text/x-python",
   "name": "python",
   "nbconvert_exporter": "python",
   "pygments_lexer": "ipython3",
   "version": "3.8.5"
  }
 },
 "nbformat": 4,
 "nbformat_minor": 1
}
