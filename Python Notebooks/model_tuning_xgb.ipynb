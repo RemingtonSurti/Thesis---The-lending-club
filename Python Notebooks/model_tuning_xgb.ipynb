{
 "cells": [
  {
   "cell_type": "code",
   "execution_count": 3,
   "metadata": {},
   "outputs": [],
   "source": [
    "#!pip install imblearn"
   ]
  },
  {
   "cell_type": "code",
   "execution_count": 4,
   "metadata": {
    "colab": {
     "base_uri": "https://localhost:8080/"
    },
    "id": "25rPIKZHoOXl",
    "outputId": "f80c2263-0a50-44d2-e33d-17f75b53c1a5"
   },
   "outputs": [],
   "source": [
    "import pandas as pd\n",
    "import numpy as np\n",
    "import matplotlib.pyplot as plt\n",
    "import os\n",
    "import pickle\n",
    "from sklearn.model_selection import GridSearchCV\n",
    "from imblearn.pipeline import Pipeline\n",
    "import xgboost as xgb\n",
    "from sklearn.metrics import classification_report, roc_curve, precision_recall_curve,roc_auc_score, f1_score, confusion_matrix"
   ]
  },
  {
   "cell_type": "code",
   "execution_count": 5,
   "metadata": {
    "id": "gO-3dAPSu6b0"
   },
   "outputs": [],
   "source": [
    "TLC_df = pd.read_csv('data\\\\TLC_df_final.csv')"
   ]
  },
  {
   "cell_type": "code",
   "execution_count": 6,
   "metadata": {
    "colab": {
     "base_uri": "https://localhost:8080/",
     "height": 240
    },
    "id": "k8c8j8ZOxegg",
    "outputId": "8a5a36c5-afd6-47af-8ba0-a82707442b01"
   },
   "outputs": [
    {
     "data": {
      "text/html": [
       "<div>\n",
       "<style scoped>\n",
       "    .dataframe tbody tr th:only-of-type {\n",
       "        vertical-align: middle;\n",
       "    }\n",
       "\n",
       "    .dataframe tbody tr th {\n",
       "        vertical-align: top;\n",
       "    }\n",
       "\n",
       "    .dataframe thead th {\n",
       "        text-align: right;\n",
       "    }\n",
       "</style>\n",
       "<table border=\"1\" class=\"dataframe\">\n",
       "  <thead>\n",
       "    <tr style=\"text-align: right;\">\n",
       "      <th></th>\n",
       "      <th>Unnamed: 0</th>\n",
       "      <th>loan_amnt</th>\n",
       "      <th>funded_amnt</th>\n",
       "      <th>term</th>\n",
       "      <th>int_rate</th>\n",
       "      <th>grade</th>\n",
       "      <th>sub_grade</th>\n",
       "      <th>emp_length</th>\n",
       "      <th>home_ownership</th>\n",
       "      <th>annual_inc</th>\n",
       "      <th>...</th>\n",
       "      <th>revol_bal</th>\n",
       "      <th>revol_util</th>\n",
       "      <th>total_acc</th>\n",
       "      <th>mort_acc</th>\n",
       "      <th>pub_rec_bankruptcies</th>\n",
       "      <th>zip_3</th>\n",
       "      <th>zip_2</th>\n",
       "      <th>credit_hist</th>\n",
       "      <th>fico_avg_score</th>\n",
       "      <th>inst_amnt_ratio</th>\n",
       "    </tr>\n",
       "  </thead>\n",
       "  <tbody>\n",
       "    <tr>\n",
       "      <th>0</th>\n",
       "      <td>0</td>\n",
       "      <td>3600.0</td>\n",
       "      <td>3600.0</td>\n",
       "      <td>1</td>\n",
       "      <td>13.99</td>\n",
       "      <td>5</td>\n",
       "      <td>21</td>\n",
       "      <td>10.0</td>\n",
       "      <td>4</td>\n",
       "      <td>55000.0</td>\n",
       "      <td>...</td>\n",
       "      <td>2765.0</td>\n",
       "      <td>29.7</td>\n",
       "      <td>13.0</td>\n",
       "      <td>1.0</td>\n",
       "      <td>0.0</td>\n",
       "      <td>190</td>\n",
       "      <td>19</td>\n",
       "      <td>4505.0</td>\n",
       "      <td>677.0</td>\n",
       "      <td>0.034175</td>\n",
       "    </tr>\n",
       "    <tr>\n",
       "      <th>1</th>\n",
       "      <td>1</td>\n",
       "      <td>24700.0</td>\n",
       "      <td>24700.0</td>\n",
       "      <td>1</td>\n",
       "      <td>11.99</td>\n",
       "      <td>5</td>\n",
       "      <td>24</td>\n",
       "      <td>10.0</td>\n",
       "      <td>4</td>\n",
       "      <td>65000.0</td>\n",
       "      <td>...</td>\n",
       "      <td>21470.0</td>\n",
       "      <td>19.2</td>\n",
       "      <td>38.0</td>\n",
       "      <td>4.0</td>\n",
       "      <td>0.0</td>\n",
       "      <td>577</td>\n",
       "      <td>57</td>\n",
       "      <td>5844.0</td>\n",
       "      <td>717.0</td>\n",
       "      <td>0.033210</td>\n",
       "    </tr>\n",
       "    <tr>\n",
       "      <th>2</th>\n",
       "      <td>4</td>\n",
       "      <td>10400.0</td>\n",
       "      <td>10400.0</td>\n",
       "      <td>2</td>\n",
       "      <td>22.45</td>\n",
       "      <td>2</td>\n",
       "      <td>9</td>\n",
       "      <td>3.0</td>\n",
       "      <td>4</td>\n",
       "      <td>104433.0</td>\n",
       "      <td>...</td>\n",
       "      <td>21929.0</td>\n",
       "      <td>64.5</td>\n",
       "      <td>35.0</td>\n",
       "      <td>6.0</td>\n",
       "      <td>0.0</td>\n",
       "      <td>174</td>\n",
       "      <td>17</td>\n",
       "      <td>6392.0</td>\n",
       "      <td>697.0</td>\n",
       "      <td>0.027876</td>\n",
       "    </tr>\n",
       "    <tr>\n",
       "      <th>3</th>\n",
       "      <td>5</td>\n",
       "      <td>11950.0</td>\n",
       "      <td>11950.0</td>\n",
       "      <td>1</td>\n",
       "      <td>13.44</td>\n",
       "      <td>5</td>\n",
       "      <td>22</td>\n",
       "      <td>4.0</td>\n",
       "      <td>3</td>\n",
       "      <td>34000.0</td>\n",
       "      <td>...</td>\n",
       "      <td>8822.0</td>\n",
       "      <td>68.4</td>\n",
       "      <td>6.0</td>\n",
       "      <td>0.0</td>\n",
       "      <td>0.0</td>\n",
       "      <td>300</td>\n",
       "      <td>30</td>\n",
       "      <td>10288.0</td>\n",
       "      <td>692.0</td>\n",
       "      <td>0.033906</td>\n",
       "    </tr>\n",
       "    <tr>\n",
       "      <th>4</th>\n",
       "      <td>6</td>\n",
       "      <td>20000.0</td>\n",
       "      <td>20000.0</td>\n",
       "      <td>1</td>\n",
       "      <td>9.17</td>\n",
       "      <td>6</td>\n",
       "      <td>28</td>\n",
       "      <td>10.0</td>\n",
       "      <td>4</td>\n",
       "      <td>180000.0</td>\n",
       "      <td>...</td>\n",
       "      <td>87329.0</td>\n",
       "      <td>84.5</td>\n",
       "      <td>27.0</td>\n",
       "      <td>4.0</td>\n",
       "      <td>0.0</td>\n",
       "      <td>550</td>\n",
       "      <td>55</td>\n",
       "      <td>9314.0</td>\n",
       "      <td>682.0</td>\n",
       "      <td>0.031879</td>\n",
       "    </tr>\n",
       "  </tbody>\n",
       "</table>\n",
       "<p>5 rows × 26 columns</p>\n",
       "</div>"
      ],
      "text/plain": [
       "   Unnamed: 0  loan_amnt  funded_amnt  term  int_rate  grade  sub_grade  \\\n",
       "0           0     3600.0       3600.0     1     13.99      5         21   \n",
       "1           1    24700.0      24700.0     1     11.99      5         24   \n",
       "2           4    10400.0      10400.0     2     22.45      2          9   \n",
       "3           5    11950.0      11950.0     1     13.44      5         22   \n",
       "4           6    20000.0      20000.0     1      9.17      6         28   \n",
       "\n",
       "   emp_length  home_ownership  annual_inc  ...  revol_bal  revol_util  \\\n",
       "0        10.0               4     55000.0  ...     2765.0        29.7   \n",
       "1        10.0               4     65000.0  ...    21470.0        19.2   \n",
       "2         3.0               4    104433.0  ...    21929.0        64.5   \n",
       "3         4.0               3     34000.0  ...     8822.0        68.4   \n",
       "4        10.0               4    180000.0  ...    87329.0        84.5   \n",
       "\n",
       "   total_acc  mort_acc  pub_rec_bankruptcies  zip_3  zip_2  credit_hist  \\\n",
       "0       13.0       1.0                   0.0    190     19       4505.0   \n",
       "1       38.0       4.0                   0.0    577     57       5844.0   \n",
       "2       35.0       6.0                   0.0    174     17       6392.0   \n",
       "3        6.0       0.0                   0.0    300     30      10288.0   \n",
       "4       27.0       4.0                   0.0    550     55       9314.0   \n",
       "\n",
       "   fico_avg_score  inst_amnt_ratio  \n",
       "0           677.0         0.034175  \n",
       "1           717.0         0.033210  \n",
       "2           697.0         0.027876  \n",
       "3           692.0         0.033906  \n",
       "4           682.0         0.031879  \n",
       "\n",
       "[5 rows x 26 columns]"
      ]
     },
     "execution_count": 6,
     "metadata": {},
     "output_type": "execute_result"
    }
   ],
   "source": [
    "TLC_df.head()"
   ]
  },
  {
   "cell_type": "code",
   "execution_count": 7,
   "metadata": {
    "id": "ODT8yi-zzSum"
   },
   "outputs": [],
   "source": [
    "target = 'loan_status'\n",
    "\n",
    "\n",
    "X = TLC_df.drop(columns=[target,'zip_3','zip_2','Unnamed: 0'], axis=1)\n",
    "y = TLC_df[target]"
   ]
  },
  {
   "cell_type": "code",
   "execution_count": 8,
   "metadata": {
    "id": "P6WGfDC7ze6T"
   },
   "outputs": [],
   "source": [
    "from sklearn.model_selection import train_test_split\n",
    "\n",
    "X_train,X_test,y_train,y_test = train_test_split(X,y,test_size=0.3, random_state=11)"
   ]
  },
  {
   "cell_type": "code",
   "execution_count": 9,
   "metadata": {
    "colab": {
     "base_uri": "https://localhost:8080/"
    },
    "id": "CyYx783Y5zez",
    "outputId": "95c4eadf-d5c1-4178-abe5-47079f986c54"
   },
   "outputs": [
    {
     "data": {
      "text/plain": [
       "80245      0\n",
       "70177      0\n",
       "760935     0\n",
       "325461     1\n",
       "1267091    0\n",
       "Name: loan_status, dtype: int64"
      ]
     },
     "execution_count": 9,
     "metadata": {},
     "output_type": "execute_result"
    }
   ],
   "source": [
    "y_train.head()"
   ]
  },
  {
   "cell_type": "code",
   "execution_count": 10,
   "metadata": {
    "colab": {
     "base_uri": "https://localhost:8080/"
    },
    "id": "z_RiognazkLt",
    "outputId": "0f6af73a-5fc6-4caf-f5dc-04c283bc12aa"
   },
   "outputs": [
    {
     "data": {
      "text/plain": [
       "((911370,), (390588,))"
      ]
     },
     "execution_count": 10,
     "metadata": {},
     "output_type": "execute_result"
    }
   ],
   "source": [
    "y_train.shape,y_test.shape"
   ]
  },
  {
   "cell_type": "code",
   "execution_count": 11,
   "metadata": {
    "id": "JufgQqLQ2tgA"
   },
   "outputs": [],
   "source": [
    "drop_columns=['pub_rec','pub_rec_bankruptcies','purpose','revol_bal','total_acc','funded_amnt']"
   ]
  },
  {
   "cell_type": "code",
   "execution_count": 12,
   "metadata": {
    "id": "TmLURc2r2wpA"
   },
   "outputs": [],
   "source": [
    "X_train=X_train.drop(columns=drop_columns)\n",
    "X_test =X_test.drop(columns=drop_columns)"
   ]
  },
  {
   "cell_type": "code",
   "execution_count": null,
   "metadata": {
    "colab": {
     "base_uri": "https://localhost:8080/"
    },
    "id": "xx6-Xtt5239Q",
    "outputId": "d0e738ca-faa5-41ba-c007-1f0f3bc6c142"
   },
   "outputs": [
    {
     "name": "stdout",
     "output_type": "stream",
     "text": [
      "Estimate: 3.551\n",
      "Fitting 3 folds for each of 18 candidates, totalling 54 fits\n",
      "[Parallel(n_jobs=-1)]: Using backend LokyBackend with 2 concurrent workers.\n",
      "[Parallel(n_jobs=-1)]: Done   1 tasks      | elapsed:  2.3min\n",
      "[Parallel(n_jobs=-1)]: Done   2 tasks      | elapsed:  2.3min\n",
      "[Parallel(n_jobs=-1)]: Done   3 tasks      | elapsed:  4.6min\n",
      "[Parallel(n_jobs=-1)]: Done   4 tasks      | elapsed:  7.2min\n",
      "[Parallel(n_jobs=-1)]: Done   5 tasks      | elapsed:  9.5min\n",
      "[Parallel(n_jobs=-1)]: Done   6 tasks      | elapsed: 12.1min\n",
      "[Parallel(n_jobs=-1)]: Done   7 tasks      | elapsed: 20.7min\n",
      "[Parallel(n_jobs=-1)]: Done   8 tasks      | elapsed: 23.4min\n",
      "[Parallel(n_jobs=-1)]: Done   9 tasks      | elapsed: 25.6min\n",
      "[Parallel(n_jobs=-1)]: Done  10 tasks      | elapsed: 27.8min\n",
      "[Parallel(n_jobs=-1)]: Done  11 tasks      | elapsed: 30.1min\n",
      "[Parallel(n_jobs=-1)]: Done  12 tasks      | elapsed: 31.8min\n",
      "[Parallel(n_jobs=-1)]: Done  13 tasks      | elapsed: 34.8min\n",
      "[Parallel(n_jobs=-1)]: Done  14 tasks      | elapsed: 36.6min\n",
      "[Parallel(n_jobs=-1)]: Done  15 tasks      | elapsed: 39.5min\n",
      "[Parallel(n_jobs=-1)]: Done  16 tasks      | elapsed: 48.6min\n",
      "[Parallel(n_jobs=-1)]: Done  17 tasks      | elapsed: 51.4min\n",
      "[Parallel(n_jobs=-1)]: Done  18 tasks      | elapsed: 53.6min\n",
      "[Parallel(n_jobs=-1)]: Done  19 tasks      | elapsed: 55.9min\n",
      "[Parallel(n_jobs=-1)]: Done  20 tasks      | elapsed: 58.2min\n",
      "[Parallel(n_jobs=-1)]: Done  21 tasks      | elapsed: 59.9min\n",
      "[Parallel(n_jobs=-1)]: Done  22 tasks      | elapsed: 63.0min\n",
      "[Parallel(n_jobs=-1)]: Done  23 tasks      | elapsed: 64.8min\n",
      "[Parallel(n_jobs=-1)]: Done  24 tasks      | elapsed: 67.9min\n",
      "[Parallel(n_jobs=-1)]: Done  25 tasks      | elapsed: 76.5min\n",
      "[Parallel(n_jobs=-1)]: Done  26 tasks      | elapsed: 79.7min\n",
      "[Parallel(n_jobs=-1)]: Done  27 tasks      | elapsed: 82.1min\n",
      "[Parallel(n_jobs=-1)]: Done  28 tasks      | elapsed: 84.6min\n",
      "[Parallel(n_jobs=-1)]: Done  29 tasks      | elapsed: 87.1min\n",
      "[Parallel(n_jobs=-1)]: Done  30 tasks      | elapsed: 88.2min\n",
      "[Parallel(n_jobs=-1)]: Done  31 tasks      | elapsed: 92.6min\n",
      "[Parallel(n_jobs=-1)]: Done  32 tasks      | elapsed: 93.8min\n",
      "[Parallel(n_jobs=-1)]: Done  33 tasks      | elapsed: 98.2min\n",
      "[Parallel(n_jobs=-1)]: Done  34 tasks      | elapsed: 107.4min\n",
      "[Parallel(n_jobs=-1)]: Done  35 tasks      | elapsed: 111.1min\n",
      "[Parallel(n_jobs=-1)]: Done  36 tasks      | elapsed: 113.6min\n",
      "[Parallel(n_jobs=-1)]: Done  37 tasks      | elapsed: 116.1min\n",
      "[Parallel(n_jobs=-1)]: Done  38 tasks      | elapsed: 118.6min\n",
      "[Parallel(n_jobs=-1)]: Done  39 tasks      | elapsed: 120.3min\n",
      "[Parallel(n_jobs=-1)]: Done  40 tasks      | elapsed: 124.1min\n",
      "[Parallel(n_jobs=-1)]: Done  41 tasks      | elapsed: 125.8min\n",
      "[Parallel(n_jobs=-1)]: Done  42 tasks      | elapsed: 129.5min\n",
      "[Parallel(n_jobs=-1)]: Done  43 tasks      | elapsed: 138.8min\n",
      "[Parallel(n_jobs=-1)]: Done  44 tasks      | elapsed: 142.4min\n",
      "[Parallel(n_jobs=-1)]: Done  45 tasks      | elapsed: 144.8min\n",
      "[Parallel(n_jobs=-1)]: Done  46 tasks      | elapsed: 147.3min\n",
      "[Parallel(n_jobs=-1)]: Done  47 tasks      | elapsed: 149.8min\n",
      "[Parallel(n_jobs=-1)]: Done  48 tasks      | elapsed: 151.4min\n",
      "[Parallel(n_jobs=-1)]: Done  49 tasks      | elapsed: 155.2min\n",
      "[Parallel(n_jobs=-1)]: Done  50 tasks      | elapsed: 156.9min\n",
      "[Parallel(n_jobs=-1)]: Done  51 tasks      | elapsed: 160.9min\n",
      "[Parallel(n_jobs=-1)]: Done  54 out of  54 | elapsed: 179.1min finished\n"
     ]
    },
    {
     "data": {
      "text/plain": [
       "GridSearchCV(cv=3, error_score=nan,\n",
       "             estimator=Pipeline(memory=None,\n",
       "                                steps=[('xgb',\n",
       "                                        XGBClassifier(base_score=0.5,\n",
       "                                                      booster='gbtree',\n",
       "                                                      colsample_bylevel=1,\n",
       "                                                      colsample_bynode=1,\n",
       "                                                      colsample_bytree=1,\n",
       "                                                      gamma=0,\n",
       "                                                      learning_rate=0.1,\n",
       "                                                      max_delta_step=0,\n",
       "                                                      max_depth=3,\n",
       "                                                      min_child_weight=1,\n",
       "                                                      missing=None,\n",
       "                                                      n_estimators=200,\n",
       "                                                      n_jobs=-1, nthread=None,\n",
       "                                                      objective='binary:logistic',\n",
       "                                                      random_state=0,\n",
       "                                                      reg_alpha=0, reg_lambda=1,\n",
       "                                                      scale_pos_weight=3.5506156565505256,\n",
       "                                                      seed=None, silent=None,\n",
       "                                                      subsample=1,\n",
       "                                                      verbosity=1))],\n",
       "                                verbose=False),\n",
       "             iid='deprecated', n_jobs=-1,\n",
       "             param_grid={'xgb__colsample_bytree': [0.9, 1.0],\n",
       "                         'xgb__eta': [0.05, 0.1, 0.3],\n",
       "                         'xgb__max_depth': [3, 6, 12]},\n",
       "             pre_dispatch='2*n_jobs', refit=True, return_train_score=False,\n",
       "             scoring='roc_auc', verbose=50)"
      ]
     },
     "execution_count": 11,
     "metadata": {
      "tags": []
     },
     "output_type": "execute_result"
    }
   ],
   "source": [
    "from collections import Counter\n",
    "counter = Counter(y_train)\n",
    "# estimate scale_pos_weight value\n",
    "estimate = counter[0] / counter[1]\n",
    "print('Estimate: %.3f' % estimate)\n",
    "#define the param grid\n",
    "# Parameters of pipelines can be set using ‘__’ separated para\n",
    "clf_grid = {\n",
    "    'xgb__eta': [0.05, 0.1, 0.3],\n",
    "    'xgb__max_depth': [3, 6, 12],\n",
    "    'xgb__colsample_bytree': [0.9, 1.0],\n",
    "    }\n",
    "#define the pipeline\n",
    "model_pipe = Pipeline([\n",
    "    ('xgb', xgb.XGBClassifier(n_estimators=200,\n",
    "                              n_jobs=-1, scale_pos_weight=estimate))\n",
    "])\n",
    "#define the classifer\n",
    "clf = GridSearchCV(model_pipe,\n",
    "                   clf_grid,\n",
    "                   n_jobs=-1,\n",
    "                   cv=3, \n",
    "                   verbose=50, \n",
    "                   scoring='roc_auc')\n",
    "#fit to training data\n",
    "clf.fit(X_train, y_train)"
   ]
  },
  {
   "cell_type": "code",
   "execution_count": null,
   "metadata": {
    "colab": {
     "base_uri": "https://localhost:8080/"
    },
    "id": "dUm4sxHOEJeV",
    "outputId": "37b48eaf-3a46-4247-f8ea-2d17980f1599"
   },
   "outputs": [
    {
     "name": "stdout",
     "output_type": "stream",
     "text": [
      "Best model parameters: \n",
      "\n",
      "{'xgb__colsample_bytree': 0.9, 'xgb__eta': 0.05, 'xgb__max_depth': 6}\n",
      "Best model score: \n",
      "\n",
      "0.7222657367625497\n"
     ]
    }
   ],
   "source": [
    "print(\"Best model parameters: \\n\")\n",
    "print(clf.best_params_ )\n",
    "print(\"Best model score: \\n\")\n",
    "print(clf.best_score_)\n"
   ]
  },
  {
   "cell_type": "code",
   "execution_count": null,
   "metadata": {
    "colab": {
     "base_uri": "https://localhost:8080/"
    },
    "id": "ks2bI_A4EOGd",
    "outputId": "b0f9aef8-2927-4c58-961a-d811e5a71e6e"
   },
   "outputs": [
    {
     "data": {
      "text/plain": [
       "array([[196570, 108629],\n",
       "       [ 27282,  58107]])"
      ]
     },
     "execution_count": 19,
     "metadata": {
      "tags": []
     },
     "output_type": "execute_result"
    }
   ],
   "source": [
    "y_pred = clf.predict(X_test)\n",
    "confusion_matrix(y_test, y_pred)"
   ]
  },
  {
   "cell_type": "code",
   "execution_count": null,
   "metadata": {
    "id": "Ytlb_1DMerqI"
   },
   "outputs": [],
   "source": [
    "fpr, tpr, thresholds = roc_curve(y_test,\n",
    "                                 clf.predict_proba(X_test)[:,1],\n",
    "                                 pos_label=1)"
   ]
  },
  {
   "cell_type": "code",
   "execution_count": null,
   "metadata": {
    "colab": {
     "base_uri": "https://localhost:8080/",
     "height": 282
    },
    "id": "D7uVITZHetnH",
    "outputId": "67cead68-32b4-49c8-bd03-200bb88cb889"
   },
   "outputs": [
    {
     "data": {
      "image/png": "[encoded data removed]",
      "text/plain": [
       "<Figure size 432x288 with 1 Axes>"
      ]
     },
     "metadata": {
      "needs_background": "light",
      "tags": []
     },
     "output_type": "display_data"
    },
    {
     "name": "stdout",
     "output_type": "stream",
     "text": [
      "AUC: 0.723\n"
     ]
    }
   ],
   "source": [
    "plt.plot(fpr, tpr, label='XGB')\n",
    "plt.plot([0,1], [0,1], label='No Discrimination', linestyle='-', dashes=(5, 5))\n",
    "plt.show()\n",
    "\n",
    "# calculate AUC\n",
    "auc = roc_auc_score(y_test, clf.predict_proba(X_test)[:,1])\n",
    "print('AUC: %.3f' % auc)"
   ]
  },
  {
   "cell_type": "code",
   "execution_count": null,
   "metadata": {
    "colab": {
     "base_uri": "https://localhost:8080/"
    },
    "id": "yEl0ueYiew9I",
    "outputId": "5d05806b-e42c-4c7e-ae29-daa0d9b4a677"
   },
   "outputs": [
    {
     "name": "stdout",
     "output_type": "stream",
     "text": [
      "f1_xgb (binary): 0.46093802677243434\n",
      "\n",
      "              precision    recall  f1-score   support\n",
      "\n",
      "           0       0.88      0.64      0.74    305199\n",
      "           1       0.35      0.68      0.46     85389\n",
      "\n",
      "    accuracy                           0.65    390588\n",
      "   macro avg       0.61      0.66      0.60    390588\n",
      "weighted avg       0.76      0.65      0.68    390588\n",
      "\n"
     ]
    }
   ],
   "source": [
    "f1_xgb = f1_score(y_test, y_pred)\n",
    "\n",
    "print(\"f1_xgb (binary): {}\\n\".format(f1_xgb))\n",
    "print(classification_report(y_test,y_pred))"
   ]
  },
  {
   "cell_type": "code",
   "execution_count": null,
   "metadata": {
    "colab": {
     "base_uri": "https://localhost:8080/"
    },
    "id": "6WHf8GD9e0zI",
    "outputId": "3c07f4b6-6f27-455c-d9ee-64e59b683079"
   },
   "outputs": [
    {
     "name": "stdout",
     "output_type": "stream",
     "text": [
      "Saving model at: /content/drive/MyDrive/xgb_cv_final.pkl\n"
     ]
    }
   ],
   "source": [
    "#define location to save trained model\n",
    "save_model_dir = os.path.join('xgb_cv_final.pkl')\n",
    "print(\"Saving model at: {}\".format(save_model_dir))\n",
    "\n",
    "#save the model\n",
    "with open(save_model_dir, 'wb') as handle:\n",
    "    pickle.dump(clf,\n",
    "                handle,\n",
    "                protocol=3)"
   ]
  }
 ],
 "metadata": {
  "colab": {
   "collapsed_sections": [],
   "name": "model tuning.ipynb",
   "provenance": []
  },
  "kernelspec": {
   "display_name": "Python 3",
   "language": "python",
   "name": "python3"
  },
  "language_info": {
   "codemirror_mode": {
    "name": "ipython",
    "version": 3
   },
   "file_extension": ".py",
   "mimetype": "text/x-python",
   "name": "python",
   "nbconvert_exporter": "python",
   "pygments_lexer": "ipython3",
   "version": "3.8.5"
  }
 },
 "nbformat": 4,
 "nbformat_minor": 1
}
